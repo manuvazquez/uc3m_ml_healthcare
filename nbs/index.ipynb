{
 "cells": [
  {
   "cell_type": "code",
   "execution_count": null,
   "metadata": {},
   "outputs": [],
   "source": [
    "#| hide\n",
    "from uc3m_ml_healthcare.core import *"
   ]
  },
  {
   "cell_type": "markdown",
   "metadata": {},
   "source": [
    "# uc3m_ml_healthcare\n",
    "\n",
    "> \"Machine Learning in Healthcare\" Course"
   ]
  },
  {
   "cell_type": "markdown",
   "metadata": {},
   "source": [
    "This library gathers some Python code meant to be used in the labs to be worked in Universidad Carlos III de Madrid [Machine Learning in Healthcare](https://aplicaciones.uc3m.es/cpa/generaFicha?est=350&asig=16803&idioma=2&anio=2022) course."
   ]
  },
  {
   "cell_type": "markdown",
   "metadata": {},
   "source": [
    "It includes the file [generate_timeseries.py](uc3m_ml_healthcare/generate_timeseries.py) from [Rubanova's implementation](https://github.com/YuliaRubanova/latent_ode) of the paper [Latent ODEs for Irregularly-Sampled Time Series](https://arxiv.org/abs/1907.03907) with two minor modifications:\n",
    "\n",
    "- commented out the unnecessary line `import lib.utils as utils`\n",
    "\n",
    "- commented out all the *matplotlib* stuff"
   ]
  },
  {
   "cell_type": "markdown",
   "metadata": {},
   "source": [
    "## Install"
   ]
  },
  {
   "cell_type": "markdown",
   "metadata": {},
   "source": [
    "The package is not in [PyPI](https://pypi.org) but this should do"
   ]
  },
  {
   "cell_type": "markdown",
   "metadata": {},
   "source": [
    "```sh\n",
    "pip install git+https://github.com/manuvazquez/uc3m_ml_healthcare@main\n",
    "```"
   ]
  }
 ],
 "metadata": {
  "kernelspec": {
   "display_name": "Python 3 (ipykernel)",
   "language": "python",
   "name": "python3"
  }
 },
 "nbformat": 4,
 "nbformat_minor": 4
}
